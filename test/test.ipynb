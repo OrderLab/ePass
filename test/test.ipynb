{
 "cells": [
  {
   "cell_type": "code",
   "execution_count": 2,
   "metadata": {},
   "outputs": [
    {
     "data": {
      "image/png": "[encoded data removed]",
      "text/plain": [
       "<Figure size 640x480 with 1 Axes>"
      ]
     },
     "metadata": {},
     "output_type": "display_data"
    }
   ],
   "source": [
    "import matplotlib.pyplot as plt\n",
    "import numpy as np\n",
    "\n",
    "# Sample data\n",
    "categories = ['Category 1', 'Category 2', 'Category 3']\n",
    "group1 = [5, 7, 9]\n",
    "group2 = [6, 8, 7]\n",
    "# group3 = [4, 6, 8]\n",
    "\n",
    "# Bar width\n",
    "bar_width = 0.25\n",
    "\n",
    "# x positions for each group of bars\n",
    "x = np.arange(len(categories))\n",
    "x1 = x - bar_width/2\n",
    "x2 = x + bar_width/2\n",
    "# x3 = x + bar_width\n",
    "\n",
    "# Plotting\n",
    "plt.bar(x1, group1, width=bar_width, label='Group 1')\n",
    "plt.bar(x2, group2, width=bar_width, label='Group 2')\n",
    "# plt.bar(x3, group3, width=bar_width, label='Group 3')\n",
    "\n",
    "# Adding labels and title\n",
    "plt.xlabel('Categories')\n",
    "plt.ylabel('Values')\n",
    "plt.title('Grouped Bar Chart Example')\n",
    "plt.xticks(x, categories)\n",
    "plt.legend()\n",
    "\n",
    "# Show plot\n",
    "plt.show()"
   ]
  },
  {
   "cell_type": "code",
   "execution_count": 2,
   "metadata": {},
   "outputs": [
    {
     "name": "stdout",
     "output_type": "stream",
     "text": [
      "output/progs_latency.o\n",
      "output/progs_map1.o\n",
      "output/evaluation_counter_loop2.o\n",
      "output/progs_test_asm.o\n",
      "output/progs_libbpf_profile.bpf.o\n",
      "output/progs_empty.o\n",
      "output/progs_tengjiang_syscount.o\n",
      "output/progs_filter.o\n",
      "output/progs_mask.o\n",
      "output/evaluation_compile_speed_speed_20.o\n",
      "output/evaluation_compile_speed_speed_100.o\n",
      "output/evaluation_counter_complex.o\n",
      "output/progs_libbpf_uprobe.bpf.o\n",
      "output/progs_libbpf_minimal_ns.bpf.o\n",
      "output/progs_loop3.o\n",
      "output/progs_tengjiang_access_control.o\n",
      "output/progs_simple2.o\n",
      "output/progs_libbpf_bootstrap.bpf.o\n",
      "output/evaluation_div_by_zero_div_by_zero.o\n",
      "output/evaluation_counter_loop1.o\n",
      "output/progs_simple1.o\n",
      "output/progs_tengjiang_unbounded_loop.o\n",
      "output/progs_hashmap.o\n",
      "output/progs_libbpf_sockfilter.bpf.o\n",
      "output/progs_libbpf_task_iter.bpf.o\n",
      "output/progs_fn_nonrejected_uninit_var_access.o\n",
      "output/progs_libbpf_fentry.bpf.o\n",
      "output/evaluation_masking_mask.o\n",
      "output/progs_mem2.o\n",
      "output/progs_compact_opt.o\n",
      "output/progs_Thejokr_ebpf-playground_probe.o\n",
      "output/progs_str.o\n",
      "output/progs_loop1.o\n",
      "output/evaluation_counter_loop3.o\n",
      "output/progs_libbpf_lsm.bpf.o\n",
      "output/progs_libbpf_ksyscall.bpf.o\n",
      "output/progs_tengjiang_xdp.o\n",
      "output/progs_mem1.o\n",
      "output/progs_libbpf_minimal.bpf.o\n",
      "output/progs_loop2.o\n",
      "output/progs_ringbuf.o\n",
      "output/evaluation_counter_complex2.o\n",
      "output/progs_fn_oob.o\n",
      "output/progs_alu64.o\n",
      "output/progs_tengjiang_simple_trace.o\n",
      "output/progs_libbpf_kprobe.bpf.o\n",
      "output/progs_counter.o\n",
      "output/evaluation_compile_speed_speed_50.o\n",
      "output/progs_libbpf_minimal_legacy.bpf.o\n",
      "output/evaluation_counter_loop4.o\n"
     ]
    }
   ],
   "source": [
    "import glob, os\n",
    "def all_objects():\n",
    "    # get all .o files in output directory\n",
    "    # Get all .o file paths in the output directory\n",
    "    o_files = glob.glob(os.path.join(\"output\", \"*.o\"))\n",
    "\n",
    "    # Print the paths\n",
    "    for file_path in o_files:\n",
    "        print(file_path)\n",
    "all_objects()"
   ]
  }
 ],
 "metadata": {
  "kernelspec": {
   "display_name": "env",
   "language": "python",
   "name": "python3"
  },
  "language_info": {
   "codemirror_mode": {
    "name": "ipython",
    "version": 3
   },
   "file_extension": ".py",
   "mimetype": "text/x-python",
   "name": "python",
   "nbconvert_exporter": "python",
   "pygments_lexer": "ipython3",
   "version": "3.12.6"
  }
 },
 "nbformat": 4,
 "nbformat_minor": 2
}
