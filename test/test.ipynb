{
 "cells": [
  {
   "cell_type": "code",
   "execution_count": 2,
   "metadata": {},
   "outputs": [
    {
     "data": {
      "image/png": "[encoded data removed]",
      "text/plain": [
       "<Figure size 640x480 with 1 Axes>"
      ]
     },
     "metadata": {},
     "output_type": "display_data"
    }
   ],
   "source": [
    "import matplotlib.pyplot as plt\n",
    "import numpy as np\n",
    "\n",
    "# Sample data\n",
    "categories = ['Category 1', 'Category 2', 'Category 3']\n",
    "group1 = [5, 7, 9]\n",
    "group2 = [6, 8, 7]\n",
    "# group3 = [4, 6, 8]\n",
    "\n",
    "# Bar width\n",
    "bar_width = 0.25\n",
    "\n",
    "# x positions for each group of bars\n",
    "x = np.arange(len(categories))\n",
    "x1 = x - bar_width/2\n",
    "x2 = x + bar_width/2\n",
    "# x3 = x + bar_width\n",
    "\n",
    "# Plotting\n",
    "plt.bar(x1, group1, width=bar_width, label='Group 1')\n",
    "plt.bar(x2, group2, width=bar_width, label='Group 2')\n",
    "# plt.bar(x3, group3, width=bar_width, label='Group 3')\n",
    "\n",
    "# Adding labels and title\n",
    "plt.xlabel('Categories')\n",
    "plt.ylabel('Values')\n",
    "plt.title('Grouped Bar Chart Example')\n",
    "plt.xticks(x, categories)\n",
    "plt.legend()\n",
    "\n",
    "# Show plot\n",
    "plt.show()"
   ]
  },
  {
   "cell_type": "code",
   "execution_count": 2,
   "metadata": {},
   "outputs": [
    {
     "name": "stdout",
     "output_type": "stream",
     "text": [
      "output/progs_latency.o\n",
      "output/progs_map1.o\n",
      "output/evaluation_counter_loop2.o\n",
      "output/progs_test_asm.o\n",
      "output/progs_libbpf_profile.bpf.o\n",
      "output/progs_empty.o\n",
      "output/progs_tengjiang_syscount.o\n",
      "output/progs_filter.o\n",
      "output/progs_mask.o\n",
      "output/evaluation_compile_speed_speed_20.o\n",
      "output/evaluation_compile_speed_speed_100.o\n",
      "output/evaluation_counter_complex.o\n",
      "output/progs_libbpf_uprobe.bpf.o\n",
      "output/progs_libbpf_minimal_ns.bpf.o\n",
      "output/progs_loop3.o\n",
      "output/progs_tengjiang_access_control.o\n",
      "output/progs_simple2.o\n",
      "output/progs_libbpf_bootstrap.bpf.o\n",
      "output/evaluation_div_by_zero_div_by_zero.o\n",
      "output/evaluation_counter_loop1.o\n",
      "output/progs_simple1.o\n",
      "output/progs_tengjiang_unbounded_loop.o\n",
      "output/progs_hashmap.o\n",
      "output/progs_libbpf_sockfilter.bpf.o\n",
      "output/progs_libbpf_task_iter.bpf.o\n",
      "output/progs_fn_nonrejected_uninit_var_access.o\n",
      "output/progs_libbpf_fentry.bpf.o\n",
      "output/evaluation_masking_mask.o\n",
      "output/progs_mem2.o\n",
      "output/progs_compact_opt.o\n",
      "output/progs_Thejokr_ebpf-playground_probe.o\n",
      "output/progs_str.o\n",
      "output/progs_loop1.o\n",
      "output/evaluation_counter_loop3.o\n",
      "output/progs_libbpf_lsm.bpf.o\n",
      "output/progs_libbpf_ksyscall.bpf.o\n",
      "output/progs_tengjiang_xdp.o\n",
      "output/progs_mem1.o\n",
      "output/progs_libbpf_minimal.bpf.o\n",
      "output/progs_loop2.o\n",
      "output/progs_ringbuf.o\n",
      "output/evaluation_counter_complex2.o\n",
      "output/progs_fn_oob.o\n",
      "output/progs_alu64.o\n",
      "output/progs_tengjiang_simple_trace.o\n",
      "output/progs_libbpf_kprobe.bpf.o\n",
      "output/progs_counter.o\n",
      "output/evaluation_compile_speed_speed_50.o\n",
      "output/progs_libbpf_minimal_legacy.bpf.o\n",
      "output/evaluation_counter_loop4.o\n"
     ]
    }
   ],
   "source": [
    "import glob, os\n",
    "def all_objects():\n",
    "    # get all .o files in output directory\n",
    "    # Get all .o file paths in the output directory\n",
    "    o_files = glob.glob(os.path.join(\"output\", \"*.o\"))\n",
    "\n",
    "    # Print the paths\n",
    "    for file_path in o_files:\n",
    "        print(file_path)\n",
    "all_objects()"
   ]
  },
  {
   "cell_type": "code",
   "execution_count": 12,
   "metadata": {},
   "outputs": [
    {
     "data": {
      "image/png": "[encoded data removed]",
      "text/plain": [
       "<Figure size 300x200 with 1 Axes>"
      ]
     },
     "metadata": {},
     "output_type": "display_data"
    }
   ],
   "source": [
    "import matplotlib.pyplot as plt\n",
    "import matplotlib\n",
    "import matplotlib.ticker as mticker\n",
    "\n",
    "# Sample data\n",
    "numbers = [0.1, 0.1, 0, 0.05, 0.1, 0.1, 0, 0.05, 0.1, 0.1, 0, 0.05, 0.1, 0.1, 0, 0.05]\n",
    "\n",
    "# Create the bar chart\n",
    "# plt.figure(figsize=(3, 3))\n",
    "plt.bar(range(len(numbers)), numbers,  width=0.5)\n",
    "\n",
    "# Add labels and title\n",
    "plt.xlabel(\"Program Index\")\n",
    "plt.ylabel(\"NI Reduced\")\n",
    "# plt.title(\"\")\n",
    "\n",
    "# Format y-axis to show percentages\n",
    "plt.gca().yaxis.set_major_formatter(mticker.PercentFormatter(xmax=1))\n",
    "\n",
    "# Display the chart\n",
    "# plt.show()\n",
    "fig = matplotlib.pyplot.gcf()\n",
    "fig.set_size_inches(3, 2)\n",
    "plt.tight_layout()\n",
    "fig.savefig(\"evalout/opt1.pdf\", dpi=200)\n"
   ]
  },
  {
   "cell_type": "code",
   "execution_count": 5,
   "metadata": {},
   "outputs": [
    {
     "name": "stdout",
     "output_type": "stream",
     "text": [
      "73.61111111111111\n",
      "2\n",
      "781\n"
     ]
    }
   ],
   "source": [
    "s = [\n",
    "    35,\n",
    "    264,\n",
    "    29,\n",
    "    24,\n",
    "    45,\n",
    "    35,\n",
    "    105,\n",
    "    288,\n",
    "    8,\n",
    "    7,\n",
    "    153,\n",
    "    13,\n",
    "    27,\n",
    "    17,\n",
    "    190,\n",
    "    32,\n",
    "    2,\n",
    "    56,\n",
    "    21,\n",
    "    36,\n",
    "    6,\n",
    "    64,\n",
    "    102,\n",
    "    29,\n",
    "    10,\n",
    "    24,\n",
    "    74,\n",
    "    9,\n",
    "    24,\n",
    "    31,\n",
    "    13,\n",
    "    427,\n",
    "    398,\n",
    "    99,\n",
    "    47,\n",
    "    19,\n",
    "    52,\n",
    "    33,\n",
    "    35,\n",
    "    88,\n",
    "    18,\n",
    "    22,\n",
    "    9,\n",
    "    51,\n",
    "    45,\n",
    "    7,\n",
    "    52,\n",
    "    72,\n",
    "    189,\n",
    "    46,\n",
    "    4,\n",
    "    118,\n",
    "    84,\n",
    "    150,\n",
    "    781,\n",
    "    37,\n",
    "    21,\n",
    "    31,\n",
    "    292,\n",
    "    15,\n",
    "    286,\n",
    "    135,\n",
    "    23,\n",
    "    80,\n",
    "    12,\n",
    "    76,\n",
    "    8,\n",
    "    16,\n",
    "    101,\n",
    "    21,\n",
    "    249,\n",
    "    185,\n",
    "    127,\n",
    "    2,\n",
    "    35,\n",
    "    21,\n",
    "    34,\n",
    "    36,\n",
    "    6,\n",
    "    16,\n",
    "    5,\n",
    "    140,\n",
    "    12,\n",
    "    349,\n",
    "    12,\n",
    "    24,\n",
    "    29,\n",
    "    19,\n",
    "    19,\n",
    "    36,\n",
    "    17,\n",
    "    50,\n",
    "    29,\n",
    "    111,\n",
    "    33,\n",
    "    5,\n",
    "    88,\n",
    "    85,\n",
    "    33,\n",
    "    14,\n",
    "    15,\n",
    "    61,\n",
    "    7,\n",
    "    128,\n",
    "    84,\n",
    "    8,\n",
    "    40,\n",
    "    13,\n",
    "]\n",
    "\n",
    "# Calculate the mean\n",
    "mean = sum(s) / len(s)\n",
    "print(mean)\n",
    "\n",
    "# min and max\n",
    "print(min(s))\n",
    "print(max(s))"
   ]
  },
  {
   "cell_type": "code",
   "execution_count": null,
   "metadata": {},
   "outputs": [],
   "source": [
    "# Total time: 2880862ns, ePass time: 678807ns (53412ns, 155412ns, 469983ns)\n",
    "# Total time: 311342269ns, ePass time: 1140437ns (50663ns, 191079ns, 898695ns)\n",
    "# Total time: 7236284621ns, ePass time: 5617123ns (96997ns, 491263ns, 5028863ns)\n",
    "\n",
    "# [5.696827, 28.799852, 60.940106] [0.252845, 1.142685, 3.08572] [0.451145, 2.344435, 4.510342] [0.1402890000000001, 0.5362509999999965, 0.9241000000000028]\n",
    "# [9.397428, 34.038493, 69.03891] [0.532262, 1.539755, 3.847256] [1.706095, 5.852944, 9.939544] [0.19145700000000154, 0.49152999999999736, 0.948165000000003]\n",
    "# [42.69672, 84.26016, 144.96661]\n"
   ]
  },
  {
   "cell_type": "code",
   "execution_count": 11,
   "metadata": {},
   "outputs": [
    {
     "name": "stdout",
     "output_type": "stream",
     "text": [
      "Simple syscall: 2848.5000 microseconds\n",
      "\n"
     ]
    }
   ],
   "source": [
    "import re\n",
    "import subprocess\n",
    "\n",
    "cmds = \"/usr/bin/lat_syscall -N 100 null\"\n",
    "process = subprocess.Popen(\n",
    "    cmds.split(\" \"), stdout=subprocess.PIPE, stderr=subprocess.PIPE\n",
    ")\n",
    "out, err = process.communicate()\n",
    "out = out.decode()\n",
    "# out = \"Simple syscall: 2838.7500 microseconds\"\n",
    "rec = re.compile(r\"Simple syscall: (.*?) microseconds\")\n",
    "res = rec.findall(out)\n",
    "print(err.decode())\n",
    "# print(float(res[0]))\n",
    "# tot = float(res[0])\n",
    "# print(tot)"
   ]
  },
  {
   "cell_type": "code",
   "execution_count": 16,
   "metadata": {},
   "outputs": [
    {
     "data": {
      "image/png": "[encoded data removed]",
      "text/plain": [
       "<Figure size 640x480 with 1 Axes>"
      ]
     },
     "metadata": {},
     "output_type": "display_data"
    }
   ],
   "source": [
    "import matplotlib.pyplot as plt\n",
    "import numpy as np\n",
    "\n",
    "# Sample data\n",
    "group1 = [5, 7, 9, 5, 6]\n",
    "\n",
    "\n",
    "# Plotting\n",
    "plt.bar([1, 2, 3, 4, 5], group1, label=\"Group 1\")\n",
    "\n",
    "# Adding labels and title\n",
    "plt.xlabel(\"Categories\")\n",
    "plt.ylabel(\"Values\")\n",
    "plt.legend()\n",
    "\n",
    "plt.show()"
   ]
  },
  {
   "cell_type": "code",
   "execution_count": 7,
   "metadata": {},
   "outputs": [],
   "source": [
    "import re\n",
    "\n",
    "with open(\"progs/falco/progs.txt\", \"r\") as f:\n",
    "    content = f.read()\n",
    "\n",
    "pattern = r\"Original Program, size.*\\n([0-9\\n]+)---\"\n",
    "matches = re.findall(pattern, content)\n",
    "cnt = 0\n",
    "for match in matches:\n",
    "    cnt += 1\n",
    "    with open(f\"progs/falco/prog{cnt}.txt\", \"w\") as f:\n",
    "        f.write(match)"
   ]
  }
 ],
 "metadata": {
  "kernelspec": {
   "display_name": ".venv",
   "language": "python",
   "name": "python3"
  },
  "language_info": {
   "codemirror_mode": {
    "name": "ipython",
    "version": 3
   },
   "file_extension": ".py",
   "mimetype": "text/x-python",
   "name": "python",
   "nbconvert_exporter": "python",
   "pygments_lexer": "ipython3",
   "version": "3.13.2"
  }
 },
 "nbformat": 4,
 "nbformat_minor": 2
}
